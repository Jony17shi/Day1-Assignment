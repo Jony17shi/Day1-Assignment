{
  "nbformat": 4,
  "nbformat_minor": 0,
  "metadata": {
    "colab": {
      "provenance": [],
      "include_colab_link": true
    },
    "kernelspec": {
      "name": "python3",
      "display_name": "Python 3"
    },
    "language_info": {
      "name": "python"
    }
  },
  "cells": [
    {
      "cell_type": "markdown",
      "metadata": {
        "id": "view-in-github",
        "colab_type": "text"
      },
      "source": [
        "<a href=\"https://colab.research.google.com/github/Jony17shi/Day1-Assignment/blob/main/Day2_coding.ipynb\" target=\"_parent\"><img src=\"https://colab.research.google.com/assets/colab-badge.svg\" alt=\"Open In Colab\"/></a>"
      ]
    },
    {
      "cell_type": "markdown",
      "source": [
        "## 1.Difference between the list and tuple?"
      ],
      "metadata": {
        "id": "HN6tCq60j2mQ"
      }
    },
    {
      "cell_type": "code",
      "source": [
        "list1 = [1,'abc',2,3]#list is mutable can store characters and numbers and values can be change and written in []\n",
        "item1 = ('one', 2,3)# tuple is immutable can store char and number but we cant change the values and written in ()\n",
        "type(list1)\n"
      ],
      "metadata": {
        "id": "Cw8ffkhMk6RQ",
        "colab": {
          "base_uri": "https://localhost:8080/"
        },
        "outputId": "4ad64666-fad3-4afc-ea31-01128a6d0f67"
      },
      "execution_count": null,
      "outputs": [
        {
          "output_type": "execute_result",
          "data": {
            "text/plain": [
              "list"
            ]
          },
          "metadata": {},
          "execution_count": 4
        }
      ]
    },
    {
      "cell_type": "code",
      "source": [
        "type(item1)"
      ],
      "metadata": {
        "colab": {
          "base_uri": "https://localhost:8080/"
        },
        "id": "F7ZP3_N9d0Jd",
        "outputId": "1551a92b-7a3e-4a2d-e040-91e5d60e1e4c"
      },
      "execution_count": null,
      "outputs": [
        {
          "output_type": "execute_result",
          "data": {
            "text/plain": [
              "tuple"
            ]
          },
          "metadata": {},
          "execution_count": 5
        }
      ]
    },
    {
      "cell_type": "markdown",
      "source": [
        "## 2.How list is different from an array"
      ],
      "metadata": {
        "id": "uWhJG7hzk6Ov"
      }
    },
    {
      "cell_type": "code",
      "source": [
        "import numpy as np\n",
        "myarray = np.array([1,2,3,4])#homogenous only stores numbers\n",
        "print(\"the elements of array are:\",myarray)\n",
        "mylist= ['abc', 1, 2, 'char']#heterogenous store characters and number\n",
        "print(\"the list are:\", mylist)"
      ],
      "metadata": {
        "id": "MowyCcINo4Mn",
        "colab": {
          "base_uri": "https://localhost:8080/"
        },
        "outputId": "8daebaa5-0ed1-461e-9205-5464e3fd215c"
      },
      "execution_count": null,
      "outputs": [
        {
          "output_type": "stream",
          "name": "stdout",
          "text": [
            "the elements of array are: [1 2 3 4]\n",
            "the list are: ['abc', 1, 2, 'char']\n"
          ]
        }
      ]
    },
    {
      "cell_type": "markdown",
      "source": [],
      "metadata": {
        "id": "1uPEIFbxmQwt"
      }
    },
    {
      "cell_type": "markdown",
      "source": [
        "## 3. Use the python list append(),copy(), clear, count, extends(), index(), insert(), pop(), reverse(), sort(), min(), max(),and sum()"
      ],
      "metadata": {
        "id": "_0Rn7JQSk6M1"
      }
    },
    {
      "cell_type": "code",
      "source": [
        "l1 = list(map(int,input(\"enter elements: \").split()))\n",
        "print(\"l1 elements are:\",l1)\n",
        "l1.append(int(input(\"enter number \")))\n",
        "print(\"append element:\", l1)\n",
        "l2=[]\n",
        "l2=l1.copy()\n",
        "print(\"copy element:\", l2)\n",
        "l1.sort()\n",
        "print(\"sort element:\", l1)\n",
        "l1.extend([10, 11])\n",
        "print(\"extended list:\", l1)\n",
        "cnt=l1.count(int(input(\" enter element to count\")))\n",
        "print(\"count of element is:\",cnt)\n",
        "print(\"index number is:\", l1.index(4))\n",
        "print(\"pop ele\", l1.pop(0))\n",
        "print(\"enter inserting number:\")\n",
        "l1.insert(45,56)\n",
        "print(\"insert element:\", l1)\n",
        "print(\"max element:\", max(l1))\n",
        "print(\"min element:\", min(l1))\n",
        "l1.reverse()\n",
        "print(\"reverse element:\", l1)\n",
        "l1.clear()\n",
        "print(\"clear element:\", l1)\n"
      ],
      "metadata": {
        "id": "h4K5_r4pcBQ3",
        "colab": {
          "base_uri": "https://localhost:8080/"
        },
        "outputId": "e0c91ea2-4e2d-4bde-9a58-7b0a9cce7b91"
      },
      "execution_count": null,
      "outputs": [
        {
          "output_type": "stream",
          "name": "stdout",
          "text": [
            "enter elements: 1 2 4 7 4 3 6 5 7 4\n",
            "l1 elements are: [1, 2, 4, 7, 4, 3, 6, 5, 7, 4]\n",
            "enter number 4\n",
            "append element: [1, 2, 4, 7, 4, 3, 6, 5, 7, 4, 4]\n",
            "copy element: [1, 2, 4, 7, 4, 3, 6, 5, 7, 4, 4]\n",
            "sort element: [1, 2, 3, 4, 4, 4, 4, 5, 6, 7, 7]\n",
            "extended list: [1, 2, 3, 4, 4, 4, 4, 5, 6, 7, 7, 10, 11]\n",
            " enter element to count4\n",
            "count of element is: 4\n",
            "index number is: 3\n",
            "pop ele 1\n",
            "enter inserting number:\n",
            "insert element: [2, 3, 4, 4, 4, 4, 5, 6, 7, 7, 10, 11, 56]\n",
            "max element: 56\n",
            "min element: 2\n",
            "reverse element: [56, 11, 10, 7, 7, 6, 5, 4, 4, 4, 4, 3, 2]\n",
            "clear element: []\n"
          ]
        }
      ]
    },
    {
      "cell_type": "markdown",
      "source": [
        "## 4, How would you divide the list into two parts?"
      ],
      "metadata": {
        "id": "W9xfjUWak6J_"
      }
    },
    {
      "cell_type": "code",
      "source": [
        "lst= [1 , 2, 3 , 4 ,5 , 6, 7 , 8,9]\n",
        "first_half =lst[0:len(lst)//2]\n",
        "second_half=lst[len(lst)//2::]\n",
        "print(\"first half number in list is:\", first_half)\n",
        "print(\"second half number in list is:\", second_half)"
      ],
      "metadata": {
        "colab": {
          "base_uri": "https://localhost:8080/"
        },
        "id": "sPIl00NE7oDR",
        "outputId": "3e0b3610-1590-4b57-a290-cc40d13e08f3"
      },
      "execution_count": null,
      "outputs": [
        {
          "output_type": "stream",
          "name": "stdout",
          "text": [
            "first half number in list is: [1, 2, 3, 4]\n",
            "second half number in list is: [5, 6, 7, 8, 9]\n"
          ]
        }
      ]
    },
    {
      "cell_type": "markdown",
      "source": [
        "## 5. how to filter the multiple of 3 from a given list and them remove the odd number from the new filtered list.\n",
        "Eg A = [1,2,3,4,5,6,7,8,9,21,23,24]\n",
        "Filter_lsit = [3,6,9,21,24]\n",
        "output_list = [6,24]"
      ],
      "metadata": {
        "id": "Qb1mVGfnk6G5"
      }
    },
    {
      "cell_type": "code",
      "source": [
        "A = [1,2,3,4,5,6,7,8,9,21,23,24]\n",
        "l2=[]\n",
        "l3=[]\n",
        "for i in A:\n",
        "  if i%3 ==0:\n",
        "    l2.append(i)\n",
        "print(\"filtered list is:\", l2)\n",
        "for x in l2:\n",
        "  if x%2==0:\n",
        "    l3.append(x)\n",
        "print(\"output list is:\", l3)"
      ],
      "metadata": {
        "colab": {
          "base_uri": "https://localhost:8080/"
        },
        "id": "F4U7OAiQ7zm0",
        "outputId": "59e83b88-8fc5-482e-aba3-d7072c1ba7f6"
      },
      "execution_count": null,
      "outputs": [
        {
          "output_type": "stream",
          "name": "stdout",
          "text": [
            "filtered list is: [3, 6, 9, 21, 24]\n",
            "output list is: [6, 24]\n"
          ]
        }
      ]
    },
    {
      "cell_type": "markdown",
      "source": [
        "## 6. How you can access keys and values simultaneously and update its value"
      ],
      "metadata": {
        "id": "auhYyjixk6FD"
      }
    },
    {
      "cell_type": "code",
      "source": [
        "item1= {1:23,2:45,3:67,8:90}\n",
        "print(\"dictonary is:\", item1)\n",
        "for keys,values in item1.items():\n",
        "  print(keys,values)"
      ],
      "metadata": {
        "id": "7e3XYU5J70bs",
        "colab": {
          "base_uri": "https://localhost:8080/"
        },
        "outputId": "d7924320-405b-406e-e674-fa5be1a7e651"
      },
      "execution_count": 4,
      "outputs": [
        {
          "output_type": "stream",
          "name": "stdout",
          "text": [
            "dictonary is: {1: 23, 2: 45, 3: 67, 8: 90}\n",
            "1 23\n",
            "2 45\n",
            "3 67\n",
            "8 90\n"
          ]
        }
      ]
    },
    {
      "cell_type": "markdown",
      "source": [
        "## 7. Write python program to join, merge, concatente the two dictionaries..\n"
      ],
      "metadata": {
        "id": "vV00n0awk5_G"
      }
    },
    {
      "cell_type": "code",
      "source": [
        "dit1 = {12:1,13:2,34:\"abc\"}\n",
        "dit2 ={11:8,21:6,35:\"hjg\"}\n",
        "dit1.update(dit2)\n",
        "print(\" dictonary is:\", dit1)"
      ],
      "metadata": {
        "id": "gC6cgEq572mL",
        "colab": {
          "base_uri": "https://localhost:8080/"
        },
        "outputId": "9a0f004e-f209-48cf-9081-2ff871aa3d9d"
      },
      "execution_count": 12,
      "outputs": [
        {
          "output_type": "stream",
          "name": "stdout",
          "text": [
            " dictonary is: {12: 1, 13: 2, 34: 'abc', 11: 8, 21: 6, 35: 'hjg'}\n"
          ]
        }
      ]
    },
    {
      "cell_type": "markdown",
      "source": [
        "## 8. How would you check a specific keys from the dictionary??\n"
      ],
      "metadata": {
        "id": "Z_7dpypWnQ-z"
      }
    },
    {
      "cell_type": "code",
      "source": [
        "my_dict = {'apple:1,' 'banana':2 , 'grapes':3}\n",
        "key_tocheck=int(input(\"enter key to check\"))\n",
        "if [key_tocheck].count(key_tocheck)==1:\n",
        "  print(f\"key'{key_tocheck}'exists.\")\n",
        "else:\n",
        "  print(f\"key'{key_tocheck}'doesnot exists.\")\n",
        "\n"
      ],
      "metadata": {
        "id": "EjrMmrAR735C",
        "colab": {
          "base_uri": "https://localhost:8080/"
        },
        "outputId": "9aabae06-56e5-479c-9ca6-7ddfd0cfa862"
      },
      "execution_count": 22,
      "outputs": [
        {
          "output_type": "stream",
          "name": "stdout",
          "text": [
            "enter key to check2\n",
            "key'2'exists.\n"
          ]
        }
      ]
    },
    {
      "cell_type": "markdown",
      "source": [
        "## 9. write a python program to find the unique vowel present in the sentence"
      ],
      "metadata": {
        "id": "EjxeB4ntnirH"
      }
    },
    {
      "cell_type": "code",
      "source": [
        "A = \" harshitha is student\"\n",
        "l1=[\"a\",\"e\",\"i\",\"o\",\"u\"]\n",
        "l3=[]\n",
        "l4=[]\n",
        "for i in A:\n",
        "  if i in l1:\n",
        "    l3.append(i)\n",
        "print(\"vowels are:\", l3)\n",
        "for x in A:\n",
        "  if x not in l3:\n",
        "      l4.append(x)\n",
        "print(\"no vowels:\", l4)"
      ],
      "metadata": {
        "id": "5AdfyVTb-MJk",
        "colab": {
          "base_uri": "https://localhost:8080/"
        },
        "outputId": "13de7488-f815-4080-cec2-64584ea877ed"
      },
      "execution_count": 25,
      "outputs": [
        {
          "output_type": "stream",
          "name": "stdout",
          "text": [
            "vowels are: ['a', 'i', 'a', 'i', 'u', 'e']\n",
            "no vowels: [' ', 'h', 'r', 's', 'h', 't', 'h', ' ', 's', ' ', 's', 't', 'd', 'n', 't']\n"
          ]
        }
      ]
    },
    {
      "cell_type": "markdown",
      "source": [
        "## 10. We know that tuple is immutable, do any thing and add element to the tuples."
      ],
      "metadata": {
        "id": "B1VBImcfns6V"
      }
    },
    {
      "cell_type": "code",
      "source": [
        "tup=(1,23,45,66)\n",
        "x=int(input(\"enter element\"))\n",
        "tup+=(x,)\n",
        "print(\"adding element to tuple\", tup)"
      ],
      "metadata": {
        "id": "f5isBrzR-NC1",
        "colab": {
          "base_uri": "https://localhost:8080/"
        },
        "outputId": "b93a40be-875c-41aa-b7bb-e6eb541d95be"
      },
      "execution_count": 29,
      "outputs": [
        {
          "output_type": "stream",
          "name": "stdout",
          "text": [
            "enter element2\n",
            "adding element to tuple (1, 23, 45, 66, 2)\n"
          ]
        }
      ]
    },
    {
      "cell_type": "markdown",
      "source": [
        "## 11. How would you sum the list of tuple and sum of tuple of list\n",
        "list  = [(2,3),(4,5),(6,4)]\n",
        "output= [5,9,10]\n",
        "\n",
        "tuple  =([2,3],[4,5],[6,4])\n",
        "output  =  (5,9,10)"
      ],
      "metadata": {
        "id": "Yd7tDQHuoGFm"
      }
    },
    {
      "cell_type": "code",
      "source": [
        "ist = [(2,3),(4,5),(6,4)]\n",
        "l2=[]\n",
        "for i in ist:\n",
        "  l2.append(i[0]+i[1])\n",
        "print(tuple(l2))"
      ],
      "metadata": {
        "colab": {
          "base_uri": "https://localhost:8080/"
        },
        "id": "kHffVzKC5he8",
        "outputId": "48ee743d-1da9-4979-b4a6-0922a57ad0f6"
      },
      "execution_count": 30,
      "outputs": [
        {
          "output_type": "stream",
          "name": "stdout",
          "text": [
            "(5, 9, 10)\n"
          ]
        }
      ]
    }
  ]
}